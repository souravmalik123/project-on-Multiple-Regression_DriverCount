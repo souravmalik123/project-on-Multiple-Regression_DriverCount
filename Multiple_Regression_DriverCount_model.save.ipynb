{
 "cells": [
  {
   "cell_type": "code",
   "execution_count": 2,
   "id": "980d0bdc",
   "metadata": {},
   "outputs": [],
   "source": [
    "import pandas as pd\n",
    "import joblib\n",
    "from sklearn.metrics import r2_score"
   ]
  },
  {
   "cell_type": "code",
   "execution_count": 3,
   "id": "4d4f4498",
   "metadata": {},
   "outputs": [],
   "source": [
    "file_name = \"Reg_model_Driver_counts.save\""
   ]
  },
  {
   "cell_type": "code",
   "execution_count": 4,
   "id": "e685f779",
   "metadata": {},
   "outputs": [],
   "source": [
    "model_save = joblib.load(\"Reg_model_Driver_counts.save\")"
   ]
  },
  {
   "cell_type": "code",
   "execution_count": 5,
   "id": "42c60fcc",
   "metadata": {},
   "outputs": [
    {
     "name": "stdout",
     "output_type": "stream",
     "text": [
      "LinearRegression()\n"
     ]
    }
   ],
   "source": [
    "print(model_save)"
   ]
  },
  {
   "cell_type": "code",
   "execution_count": 6,
   "id": "e6bb2851",
   "metadata": {},
   "outputs": [
    {
     "name": "stdout",
     "output_type": "stream",
     "text": [
      "                 datetime  season  holiday  workingday  weather   temp  \\\n",
      "0      2012-06-30 1:00:00       3        0           0        3  26.24   \n",
      "1      2012-06-30 2:00:00       3        0           0        2  26.24   \n",
      "2      2012-06-30 3:00:00       3        0           0        2  26.24   \n",
      "3      2012-06-30 4:00:00       3        0           0        2  25.42   \n",
      "4      2012-06-30 5:00:00       3        0           0        1  26.24   \n",
      "...                   ...     ...      ...         ...      ...    ...   \n",
      "4394  2012-12-31 19:00:00       1        0           1        2  10.66   \n",
      "4395  2012-12-31 20:00:00       1        0           1        2  10.66   \n",
      "4396  2012-12-31 21:00:00       1        0           1        1  10.66   \n",
      "4397  2012-12-31 22:00:00       1        0           1        1  10.66   \n",
      "4398  2012-12-31 23:00:00       1        0           1        1  10.66   \n",
      "\n",
      "       atemp  humidity  windspeed  casual  registered  \n",
      "0     28.790      89.0    15.0013       3          55  \n",
      "1     28.790      89.0     0.0000       7          54  \n",
      "2     28.790      89.0     0.0000       3          20  \n",
      "3     27.275      94.0     0.0000       3          15  \n",
      "4     28.790      89.0    11.0014       3           7  \n",
      "...      ...       ...        ...     ...         ...  \n",
      "4394  12.880      60.0    11.0014      11         108  \n",
      "4395  12.880      60.0    11.0014       8          81  \n",
      "4396  12.880      60.0    11.0014       7          83  \n",
      "4397  13.635      56.0     8.9981      13          48  \n",
      "4398  13.635      65.0     8.9981      12          37  \n",
      "\n",
      "[4399 rows x 11 columns]\n"
     ]
    }
   ],
   "source": [
    "test_data = pd.read_csv(\"test.csv\")\n",
    "print(test_data)"
   ]
  },
  {
   "cell_type": "code",
   "execution_count": 14,
   "id": "a01d3954",
   "metadata": {},
   "outputs": [],
   "source": [
    "test_data1 = test_data[[\"season\",\"holiday\",\"workingday\",\"weather\",\"temp\",\"atemp\",\"humidity\",\"windspeed\",\"casual\",\"registered\"]]"
   ]
  },
  {
   "cell_type": "code",
   "execution_count": 18,
   "id": "47cf4c25",
   "metadata": {},
   "outputs": [
    {
     "name": "stdout",
     "output_type": "stream",
     "text": [
      "[58. 61. 23. ... 90. 61. 49.]\n"
     ]
    }
   ],
   "source": [
    "##### pridicting the testing data\n",
    "pred=model_save.predict(test_data)\n",
    "print(pred)"
   ]
  },
  {
   "cell_type": "code",
   "execution_count": null,
   "id": "8fc4e082",
   "metadata": {},
   "outputs": [],
   "source": []
  }
 ],
 "metadata": {
  "kernelspec": {
   "display_name": "Python 3 (ipykernel)",
   "language": "python",
   "name": "python3"
  },
  "language_info": {
   "codemirror_mode": {
    "name": "ipython",
    "version": 3
   },
   "file_extension": ".py",
   "mimetype": "text/x-python",
   "name": "python",
   "nbconvert_exporter": "python",
   "pygments_lexer": "ipython3",
   "version": "3.11.4"
  }
 },
 "nbformat": 4,
 "nbformat_minor": 5
}
